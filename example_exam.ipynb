{
 "cells": [
  {
   "cell_type": "markdown",
   "id": "45fd65aa",
   "metadata": {},
   "source": [
    "# PGE310 Example Exam 1\n",
    "\n",
    "This is a dummy template for exam 2 to test automatically creating exam questions.\n",
    "\n",
    "This markdown cell will include a set of instructions for solutions and submissions.\n",
    "\n",
    "\n"
   ]
  },
  {
   "cell_type": "markdown",
   "id": "c1d05f9f",
   "metadata": {},
   "source": [
    "# Pledge\n",
    "The core values of The University of Texas at Austin are:\n",
    "- learning, \n",
    "- discovery, \n",
    "- freedom, \n",
    "- leadership, \n",
    "- individual opportunity, and \n",
    "- responsibility.\n",
    "\n",
    "As a student of the University, you shall abide by the core values and uphold academic integrity.\n",
    "\n",
    "## Exam pledge\n",
    "I pledge not to copy from nor consult anyone/anything in solving this exam."
   ]
  },
  {
   "cell_type": "code",
   "execution_count": null,
   "id": "15d2ebb4",
   "metadata": {},
   "outputs": [],
   "source": [
    "pledge = input('Retype the above pledge: ')"
   ]
  },
  {
   "cell_type": "markdown",
   "id": "884b0eac",
   "metadata": {},
   "source": [
    "## Consequences\n",
    "If caught cheating on the exam, I understand that I will receive 0 on the exam, and my conduct may be reported to the Dean of Students.\n",
    "__Students with two such reports are suspended from the University.__"
   ]
  },
  {
   "cell_type": "code",
   "execution_count": null,
   "id": "112770f3",
   "metadata": {},
   "outputs": [],
   "source": [
    "signed = input('Type in your first and last name: ')"
   ]
  },
  {
   "cell_type": "markdown",
   "id": "43adda02",
   "metadata": {},
   "source": [
    "## By signing below, you verify the pledge above and that you understand the consequences."
   ]
  },
  {
   "cell_type": "markdown",
   "id": "edb29ab3",
   "metadata": {},
   "source": [
    "Create an array ```a```\n",
    "\n",
    "$$ a = \\begin{bmatrix} a21 & a22 & a23\\\\ 2 & 7 & 17 \\end{bmatrix} $$\n",
    "\n",
    "Multiply ```a``` by 2 and assign it to ```b```"
   ]
  },
  {
   "cell_type": "code",
   "execution_count": null,
   "id": "28a05377",
   "metadata": {},
   "outputs": [],
   "source": [
    "import numpy as np\n",
    "\n",
    "a = \n",
    "b = "
   ]
  }
 ],
 "metadata": {
  "kernelspec": {
   "display_name": "Python 3 (ipykernel)",
   "language": "python",
   "name": "python3"
  },
  "language_info": {
   "codemirror_mode": {
    "name": "ipython",
    "version": 3
   },
   "file_extension": ".py",
   "mimetype": "text/x-python",
   "name": "python",
   "nbconvert_exporter": "python",
   "pygments_lexer": "ipython3",
   "version": "3.8.11"
  }
 },
 "nbformat": 4,
 "nbformat_minor": 5
}
